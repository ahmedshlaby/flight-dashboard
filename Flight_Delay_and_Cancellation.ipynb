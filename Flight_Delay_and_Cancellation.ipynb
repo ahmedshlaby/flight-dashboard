{
 "cells": [
  {
   "cell_type": "markdown",
   "id": "b0233df2",
   "metadata": {},
   "source": [
    "# Data Understanding"
   ]
  },
  {
   "cell_type": "markdown",
   "id": "2071a834",
   "metadata": {},
   "source": [
    "![Screenshot](Screenshot.png)\n"
   ]
  },
  {
   "cell_type": "markdown",
   "id": "c71c0ac1",
   "metadata": {},
   "source": [
    "#  Import Necessary Liberaries"
   ]
  },
  {
   "cell_type": "code",
   "execution_count": null,
   "id": "535284fe",
   "metadata": {},
   "outputs": [],
   "source": [
    "import pandas as pd\n",
    "import numpy as np\n",
    "import plotly.express as px\n",
    "import seaborn as sns\n"
   ]
  },
  {
   "cell_type": "code",
   "execution_count": null,
   "id": "4b9ca439",
   "metadata": {},
   "outputs": [],
   "source": [
    "# To Show All Column\n",
    "pd.set_option('display.max_columns', None)"
   ]
  },
  {
   "cell_type": "code",
   "execution_count": null,
   "id": "1be41f18",
   "metadata": {},
   "outputs": [],
   "source": [
    "# I took a sample of Data \n",
    "# df = pd.read_csv('flights_sample_3m.csv').sample(1000000).sort_values(by= \"FL_DATE\", ignore_index= True)\n",
    "# df.to_csv('flights_sample_1m.csv', index= False)"
   ]
  },
  {
   "cell_type": "markdown",
   "id": "334f27e0",
   "metadata": {},
   "source": [
    "# Data Loading"
   ]
  },
  {
   "cell_type": "code",
   "execution_count": null,
   "id": "ec3dca0e",
   "metadata": {},
   "outputs": [],
   "source": [
    "import pandas as pd\n",
    "import streamlit as st\n",
    "\n",
    "url = \"https://www.dropbox.com/scl/fi/ms75gkptiv8unvoyfsvkd/flights_sample_1m.csv?rlkey=et96egb6z67wll1avmu9vhnx6&st=vhduo8a0&dl=1\"\n",
    "\n",
    "df = pd.read_csv(url)\n",
    "\n",
    "df"
   ]
  },
  {
   "cell_type": "markdown",
   "id": "8cf21df4",
   "metadata": {},
   "source": [
    "# Data Exploration"
   ]
  },
  {
   "cell_type": "code",
   "execution_count": null,
   "id": "5fe0288f",
   "metadata": {},
   "outputs": [],
   "source": [
    "# Check Data Type\n",
    "df.info()"
   ]
  },
  {
   "cell_type": "code",
   "execution_count": null,
   "id": "da25009e",
   "metadata": {},
   "outputs": [],
   "source": [
    "df.head()"
   ]
  },
  {
   "cell_type": "code",
   "execution_count": null,
   "id": "86ec90a7",
   "metadata": {},
   "outputs": [],
   "source": [
    "# Check Summary Statistics For Numerical Columns\n",
    "df.describe(include= \"number\").round(2)"
   ]
  },
  {
   "cell_type": "code",
   "execution_count": null,
   "id": "2beffd78",
   "metadata": {},
   "outputs": [],
   "source": [
    "# Check Summary Statistics For Categorical Columns\n",
    "df.describe(include= \"O\").round(2)"
   ]
  },
  {
   "cell_type": "code",
   "execution_count": null,
   "id": "81280a8f",
   "metadata": {},
   "outputs": [],
   "source": [
    "# Check Duplicates\n",
    "df.duplicated().sum()"
   ]
  },
  {
   "cell_type": "code",
   "execution_count": null,
   "id": "1b1f197e",
   "metadata": {},
   "outputs": [],
   "source": [
    "# Check Missing Value\n",
    "df.isna().mean() * 100"
   ]
  },
  {
   "cell_type": "code",
   "execution_count": null,
   "id": "6b48f867",
   "metadata": {},
   "outputs": [],
   "source": [
    "round((1 - df.dropna().shape[0] / df.shape[0]) * 100, 2) # All Rows has Missing Value (NaN)"
   ]
  },
  {
   "cell_type": "markdown",
   "id": "1c9af096",
   "metadata": {},
   "source": [
    "# Data Cleaning"
   ]
  },
  {
   "cell_type": "code",
   "execution_count": null,
   "id": "e5da4d2c",
   "metadata": {},
   "outputs": [],
   "source": [
    "# set the columns small letter\n",
    "df.columns = df.columns.str.lower()\n",
    "df.columns"
   ]
  },
  {
   "cell_type": "code",
   "execution_count": null,
   "id": "bcc1705f",
   "metadata": {},
   "outputs": [],
   "source": [
    "# Drop unnecessary Column\n",
    "df.drop(columns= ['airline_dot', 'dot_code', 'airline_code','fl_number'], axis=1, inplace= True)"
   ]
  },
  {
   "cell_type": "code",
   "execution_count": null,
   "id": "720ed354",
   "metadata": {},
   "outputs": [],
   "source": [
    "df.duplicated().sum()"
   ]
  },
  {
   "cell_type": "code",
   "execution_count": null,
   "id": "d6eeeb9e",
   "metadata": {},
   "outputs": [],
   "source": [
    "# Convert fl_date to DateTime\n",
    "df['fl_date'] = pd.to_datetime(df['fl_date'])\n",
    "df['fl_date']"
   ]
  },
  {
   "cell_type": "markdown",
   "id": "818d2a2d",
   "metadata": {},
   "source": [
    "# In Depth Check For Categorical Columns"
   ]
  },
  {
   "cell_type": "code",
   "execution_count": null,
   "id": "74ca81ae",
   "metadata": {},
   "outputs": [],
   "source": [
    "cat_col = df.select_dtypes(include= \"O\").columns\n",
    "cat_col"
   ]
  },
  {
   "cell_type": "code",
   "execution_count": null,
   "id": "cf342467",
   "metadata": {},
   "outputs": [],
   "source": [
    "for col in cat_col:\n",
    "    print(col)\n",
    "    print(df[col].nunique())\n",
    "    print(df[col].unique())\n",
    "    print(\"-\" * 100)"
   ]
  },
  {
   "cell_type": "markdown",
   "id": "5c730854",
   "metadata": {},
   "source": [
    "# In Depth Check For Numerical Columns"
   ]
  },
  {
   "cell_type": "code",
   "execution_count": null,
   "id": "436c38c1",
   "metadata": {},
   "outputs": [],
   "source": [
    "df.head()"
   ]
  },
  {
   "cell_type": "code",
   "execution_count": null,
   "id": "4eeaf059",
   "metadata": {},
   "outputs": [],
   "source": [
    "timing_columns = ['crs_dep_time', 'dep_time', 'crs_arr_time', 'arr_time', 'wheels_off', 'wheels_on']\n",
    "timing_columns"
   ]
  },
  {
   "cell_type": "code",
   "execution_count": null,
   "id": "963690b2",
   "metadata": {},
   "outputs": [],
   "source": [
    "# Quik Check inconsistent value in Timing columns Without using Distribution because the data is very large\n",
    "for col in timing_columns:\n",
    "    print(col)\n",
    "    print(df[col].min())\n",
    "    print(df[col].max())\n",
    "    print(\"-\" * 50)"
   ]
  },
  {
   "cell_type": "code",
   "execution_count": null,
   "id": "05cc6728",
   "metadata": {},
   "outputs": [],
   "source": [
    "num_col = df.select_dtypes(include= \"number\").drop(columns= timing_columns, axis= 1).columns\n",
    "num_col"
   ]
  },
  {
   "cell_type": "code",
   "execution_count": null,
   "id": "550d71c7",
   "metadata": {},
   "outputs": [],
   "source": [
    "for col in num_col:\n",
    "    px.histogram(df, x= col, title= col).show()"
   ]
  },
  {
   "cell_type": "code",
   "execution_count": null,
   "id": "516673bf",
   "metadata": {},
   "outputs": [],
   "source": [
    "df.isna().mean().round(4) * 100"
   ]
  },
  {
   "cell_type": "code",
   "execution_count": null,
   "id": "f11dba24",
   "metadata": {},
   "outputs": [],
   "source": [
    "# Missing value with flight canccelled\n",
    "df[df['cancelled'] == 0][df.columns].isna().sum()"
   ]
  },
  {
   "cell_type": "code",
   "execution_count": null,
   "id": "dac74c8b",
   "metadata": {},
   "outputs": [],
   "source": [
    "# Most of the Missing value is due to cancelled flights\n",
    "df[df['cancelled'] == 1]"
   ]
  },
  {
   "cell_type": "markdown",
   "id": "467d6a7b",
   "metadata": {},
   "source": [
    "# Feature Engineering"
   ]
  },
  {
   "cell_type": "code",
   "execution_count": null,
   "id": "5bd7a0e6",
   "metadata": {},
   "outputs": [],
   "source": [
    "# Extract a new column More clear for CANCELLATION_CODE\n",
    "def cancellation_reson(x):\n",
    "    if pd.isna(x) :\n",
    "        return 'Not Cancelled'\n",
    "    elif x == 'D' :\n",
    "        return 'Security'\n",
    "    elif x == 'B':\n",
    "        return 'Weather'\n",
    "    elif x == 'C':\n",
    "        return 'NAS'\n",
    "    else:\n",
    "        return 'Airline'\n",
    "df['cancellation_reason'] = df['cancellation_code'].apply(cancellation_reson)\n",
    "df['cancellation_reason']"
   ]
  },
  {
   "cell_type": "code",
   "execution_count": null,
   "id": "c7e5acb3",
   "metadata": {},
   "outputs": [],
   "source": [
    "# Extract Year\n",
    "df['year'] = df.fl_date.dt.year\n",
    "df['year']"
   ]
  },
  {
   "cell_type": "code",
   "execution_count": null,
   "id": "311bd727",
   "metadata": {},
   "outputs": [],
   "source": [
    "# Extract Month\n",
    "df['month'] = df.fl_date.dt.strftime('%b')\n",
    "df['month']"
   ]
  },
  {
   "cell_type": "code",
   "execution_count": null,
   "id": "5a90533e",
   "metadata": {},
   "outputs": [],
   "source": [
    "# Extract Day\n",
    "df['day'] = df.fl_date.dt.strftime('%a')\n",
    "df['day']"
   ]
  },
  {
   "cell_type": "code",
   "execution_count": null,
   "id": "a99340fb",
   "metadata": {},
   "outputs": [],
   "source": [
    "# Extract Flight Status\n",
    "df['flight_status'] = df['cancelled'].apply(lambda x: 'Cancelled' if x == 1 else 'Completed')\n",
    "df['flight_status']"
   ]
  },
  {
   "cell_type": "code",
   "execution_count": null,
   "id": "ffb51dc8",
   "metadata": {},
   "outputs": [],
   "source": [
    "# Extract the flight diverted or not\n",
    "df['diverted_status'] = df['diverted'].apply(lambda x: 'Diverted' if x == 1 else 'Not Diverted')\n",
    "df['diverted_status']"
   ]
  },
  {
   "cell_type": "code",
   "execution_count": null,
   "id": "c0e5e8b2",
   "metadata": {},
   "outputs": [],
   "source": [
    "# Extract the dep time period\n",
    "def extract_dep_time_period(x):\n",
    "    if pd.isna(x):\n",
    "        return 'Unknown'\n",
    "    hour = int(x) // 100\n",
    "    if 5 <= hour < 12:\n",
    "        return 'Morning'\n",
    "    elif 12 <= hour < 17:\n",
    "        return 'Afternoon'\n",
    "    elif 17 <= hour < 21:\n",
    "        return 'Evening'\n",
    "    else:\n",
    "        return 'Night'\n",
    "\n",
    "df['dep_time_Period'] = df['dep_time'].apply(extract_dep_time_period)\n",
    "df['dep_time_Period']"
   ]
  },
  {
   "cell_type": "code",
   "execution_count": null,
   "id": "33008533",
   "metadata": {},
   "outputs": [],
   "source": [
    "# Extract the arr time period\n",
    "def extract_arr_time_period(x):\n",
    "    if pd.isna(x):\n",
    "        return 'Unknown'\n",
    "    hour = int(x) // 100\n",
    "    if 5 <= hour < 12:\n",
    "        return 'Morning'\n",
    "    elif 12 <= hour < 17:\n",
    "        return 'Afternoon'\n",
    "    elif 17 <= hour < 21:\n",
    "        return 'Evening'\n",
    "    else:\n",
    "        return 'Night'\n",
    "\n",
    "df['arr_time_Period'] = df['arr_time'].apply(extract_arr_time_period)\n",
    "df['arr_time_Period']"
   ]
  },
  {
   "cell_type": "code",
   "execution_count": null,
   "id": "a79fd1e7",
   "metadata": {},
   "outputs": [],
   "source": [
    "df.head()"
   ]
  },
  {
   "cell_type": "markdown",
   "id": "acf34250",
   "metadata": {},
   "source": [
    "# Data Analysis"
   ]
  },
  {
   "cell_type": "markdown",
   "id": "faf87b2a",
   "metadata": {},
   "source": [
    "### Univariate Categorical"
   ]
  },
  {
   "cell_type": "markdown",
   "id": "f4c8a628",
   "metadata": {},
   "source": [
    "#### 1. What are the most frequent airlines ?"
   ]
  },
  {
   "cell_type": "code",
   "execution_count": null,
   "id": "9017dd89",
   "metadata": {},
   "outputs": [],
   "source": [
    "airline_counts = df['airline'].value_counts(ascending= True).reset_index()\n",
    "airline_counts.columns = ['AirLine', 'Number of Flights']\n",
    "airline_counts"
   ]
  },
  {
   "cell_type": "code",
   "execution_count": null,
   "id": "13f62a59",
   "metadata": {},
   "outputs": [],
   "source": [
    "px.bar(airline_counts, x='Number of Flights', y='AirLine', title='Most Frequent Airlines by Number of Flights', text_auto= True, height=600, width=1200)"
   ]
  },
  {
   "cell_type": "markdown",
   "id": "82abb156",
   "metadata": {},
   "source": [
    "#### 2. Which origin cities have the highest number of departing flights?"
   ]
  },
  {
   "cell_type": "code",
   "execution_count": null,
   "id": "54f7d259",
   "metadata": {},
   "outputs": [],
   "source": [
    "origin_counts = df['origin_city'].value_counts().reset_index()\n",
    "origin_counts.columns = ['ORIGIN CITY', 'Number of Flights']\n",
    "origin_counts"
   ]
  },
  {
   "cell_type": "code",
   "execution_count": null,
   "id": "4db31ece",
   "metadata": {},
   "outputs": [],
   "source": [
    "px.bar(origin_counts.head(10), x='ORIGIN CITY', y='Number of Flights', title='Top 10 Origin Cities by Number of Flights')"
   ]
  },
  {
   "cell_type": "markdown",
   "id": "65783434",
   "metadata": {},
   "source": [
    "#### 3. Which destination cities have the highest number of arriving flights?\n",
    "\n"
   ]
  },
  {
   "cell_type": "code",
   "execution_count": null,
   "id": "dccebb0b",
   "metadata": {},
   "outputs": [],
   "source": [
    "dest_counts = df['dest_city'].value_counts().reset_index()\n",
    "dest_counts.columns = ['DEST CITY', 'Number of Flights']\n",
    "dest_counts"
   ]
  },
  {
   "cell_type": "code",
   "execution_count": null,
   "id": "e888dcf1",
   "metadata": {},
   "outputs": [],
   "source": [
    "px.bar(dest_counts.head(10), x='DEST CITY', y='Number of Flights', title='Top 10 Destination Cities by Number of Flights')"
   ]
  },
  {
   "cell_type": "markdown",
   "id": "615ad0bc",
   "metadata": {},
   "source": [
    "#### 4. What is the precentege flights were cancelled or not?"
   ]
  },
  {
   "cell_type": "code",
   "execution_count": null,
   "id": "8d61f5b6",
   "metadata": {},
   "outputs": [],
   "source": [
    "px.pie(df, names='flight_status', title='Cancelled vs Not Cancelled Flights', hole= 0.5)"
   ]
  },
  {
   "cell_type": "markdown",
   "id": "1ec9a645",
   "metadata": {},
   "source": [
    "#### 5. What are the main reasons for flight cancellations?\n"
   ]
  },
  {
   "cell_type": "code",
   "execution_count": null,
   "id": "10d19b59",
   "metadata": {},
   "outputs": [],
   "source": [
    "flight_cancelled = df[df['cancelled'] == 1]\n",
    "flight_cancelled"
   ]
  },
  {
   "cell_type": "code",
   "execution_count": null,
   "id": "b56a3bf2",
   "metadata": {},
   "outputs": [],
   "source": [
    "px.pie(flight_cancelled, names='cancellation_reason', title='Main Reasons for Flight Cancellations', hole= 0.5)\n"
   ]
  },
  {
   "cell_type": "markdown",
   "id": "c0677b2b",
   "metadata": {},
   "source": [
    "#### 6. What are the most common departure time periods (Morning, Afternoon, Evening, Night)?"
   ]
  },
  {
   "cell_type": "code",
   "execution_count": null,
   "id": "a15bb95c",
   "metadata": {},
   "outputs": [],
   "source": [
    "px.pie(df, names='dep_time_Period', title='Flight Distribution by Time Period', hole= 0.5)"
   ]
  },
  {
   "cell_type": "markdown",
   "id": "df802542",
   "metadata": {},
   "source": [
    "### Univariate Numerical"
   ]
  },
  {
   "cell_type": "markdown",
   "id": "2ea01e70",
   "metadata": {},
   "source": [
    "#### 7. What is the distribution of scheduled flight duration (crs_elapsed_time)?"
   ]
  },
  {
   "cell_type": "code",
   "execution_count": null,
   "id": "11b8e321",
   "metadata": {},
   "outputs": [],
   "source": [
    "px.histogram(df, x='crs_elapsed_time', nbins=100, title='Distribution of Scheduled Flight Duration', labels={'crs_elapsed_time': 'Scheduled Flight Duration (minutes)'})"
   ]
  },
  {
   "cell_type": "markdown",
   "id": "38fc98c9",
   "metadata": {},
   "source": [
    "#### 8. How far do most flights travel (DISTANCE)?"
   ]
  },
  {
   "cell_type": "code",
   "execution_count": null,
   "id": "b6f4ebc2",
   "metadata": {},
   "outputs": [],
   "source": [
    "px.histogram(df, x='distance',nbins=100, title='Distribution of Flight Distance', labels={'distance': 'Flight Distance (miles)'})"
   ]
  },
  {
   "cell_type": "markdown",
   "id": "0d535600",
   "metadata": {},
   "source": [
    "### Bivariate \n",
    "- Categorical vs Categorical"
   ]
  },
  {
   "cell_type": "markdown",
   "id": "a71b432f",
   "metadata": {},
   "source": [
    "#### 9. Which airlines have the highest cancellation rates?"
   ]
  },
  {
   "cell_type": "code",
   "execution_count": null,
   "id": "1f852547",
   "metadata": {},
   "outputs": [],
   "source": [
    "airline_cancel_rate = df.groupby('airline')['cancelled'].mean().reset_index()\n",
    "airline_cancel_rate = airline_cancel_rate.sort_values(by='cancelled')\n",
    "airline_cancel_rate"
   ]
  },
  {
   "cell_type": "code",
   "execution_count": null,
   "id": "bb3263d5",
   "metadata": {},
   "outputs": [],
   "source": [
    "px.bar(airline_cancel_rate, x='cancelled', y='airline', title='Airline Cancellation Rates',\n",
    "        labels={'cancelled': 'Cancellation Rate', 'airline': 'AirLine'}, text_auto= True, height=600, width=1200)"
   ]
  },
  {
   "cell_type": "markdown",
   "id": "9b270ded",
   "metadata": {},
   "source": [
    "#### 10. Which month have the highest cancellation rates?"
   ]
  },
  {
   "cell_type": "code",
   "execution_count": null,
   "id": "b3924ec7",
   "metadata": {},
   "outputs": [],
   "source": [
    "month_cancel_rate = df.groupby('month')['cancelled'].mean().reset_index()\n",
    "month_cancel_rate = month_cancel_rate.sort_values(by='cancelled')\n",
    "month_cancel_rate"
   ]
  },
  {
   "cell_type": "code",
   "execution_count": null,
   "id": "297a7a78",
   "metadata": {},
   "outputs": [],
   "source": [
    "px.bar(month_cancel_rate, x='cancelled', y='month', title='Month Cancellation Rates',\n",
    "        labels={'cancelled': 'Cancellation Rate', 'month': 'Month'}, text_auto= True, height=600, width=1200)"
   ]
  },
  {
   "cell_type": "markdown",
   "id": "d9adad0f",
   "metadata": {},
   "source": [
    "- Categorical vs Numerical"
   ]
  },
  {
   "cell_type": "markdown",
   "id": "8f37866c",
   "metadata": {},
   "source": [
    "#### 11. What is the average departure delay by airline?"
   ]
  },
  {
   "cell_type": "code",
   "execution_count": null,
   "id": "fec693ec",
   "metadata": {},
   "outputs": [],
   "source": [
    "avg_dep_delay = df.groupby(['airline'])['dep_delay'].mean().reset_index().sort_values(by= 'dep_delay')\n",
    "avg_dep_delay"
   ]
  },
  {
   "cell_type": "code",
   "execution_count": null,
   "id": "67b864cc",
   "metadata": {},
   "outputs": [],
   "source": [
    "px.bar(avg_dep_delay, x= \"dep_delay\", y= 'airline', text_auto= True, height=600, width=1200, title='Average Departure Delay by Airline',\n",
    "             labels={'dep_delay': 'Average Delay (minutes)', 'airline': 'Airline'},)"
   ]
  },
  {
   "cell_type": "markdown",
   "id": "36665549",
   "metadata": {},
   "source": [
    "#### 12. How does flight distance vary by airline?"
   ]
  },
  {
   "cell_type": "code",
   "execution_count": null,
   "id": "1a969f3b",
   "metadata": {},
   "outputs": [],
   "source": [
    "avg_distance = df.groupby('airline')['distance'].mean().reset_index().sort_values(by= 'distance' , ascending= False)\n",
    "avg_distance"
   ]
  },
  {
   "cell_type": "code",
   "execution_count": null,
   "id": "2a40724d",
   "metadata": {},
   "outputs": [],
   "source": [
    "px.bar(avg_distance, x='airline', y='distance',\n",
    "             title='Average Flight Distance per Airline',\n",
    "             labels={'airline': 'Airline', 'distance': 'Avg Distance (miles)'})"
   ]
  },
  {
   "cell_type": "markdown",
   "id": "6ec752f9",
   "metadata": {},
   "source": [
    "#### 13. Which city pairs have the longest arr delays?"
   ]
  },
  {
   "cell_type": "code",
   "execution_count": null,
   "id": "12e20dcb",
   "metadata": {},
   "outputs": [],
   "source": [
    "top_delays = df[df['cancelled'] == 0].groupby(['origin_city', 'dest_city'])['arr_delay'].mean().reset_index().sort_values(by='arr_delay', ascending=False).head(10)\n",
    "top_delays['city_pair'] = top_delays['origin_city'] + \" ---> \" + top_delays['dest_city']\n",
    "top_delays"
   ]
  },
  {
   "cell_type": "code",
   "execution_count": null,
   "id": "1d636ce2",
   "metadata": {},
   "outputs": [],
   "source": [
    "px.bar(top_delays, x='city_pair', y='arr_delay', title='Top 10 City Pairs with Longest Arrival Delays', labels={'arr_delay': 'Average Arrival Delay (minutes)', 'city_pair': 'City Pair'})"
   ]
  },
  {
   "cell_type": "markdown",
   "id": "f9a96512",
   "metadata": {},
   "source": [
    "### Multivariate"
   ]
  },
  {
   "cell_type": "markdown",
   "id": "2fe337ce",
   "metadata": {},
   "source": [
    "#### 14. what is the highest flight counts vary by airline, year, and destination city?"
   ]
  },
  {
   "cell_type": "code",
   "execution_count": null,
   "id": "c555b6fe",
   "metadata": {},
   "outputs": [],
   "source": [
    "flight_counts = df.groupby(['airline', 'year', 'dest_city']).size().reset_index(name='flight_count').sort_values(by= 'flight_count', ascending= False).head(10)\n",
    "flight_counts\n"
   ]
  },
  {
   "cell_type": "code",
   "execution_count": null,
   "id": "e4a0f4b0",
   "metadata": {},
   "outputs": [],
   "source": [
    "px.bar(\n",
    "    flight_counts,\n",
    "    x='dest_city',\n",
    "    y='flight_count',\n",
    "    color='airline',\n",
    "    facet_col='year',\n",
    "    title='Top 10 Destinations by Airline and Year',\n",
    "    labels={'dest_city': 'Destination City', 'flight_count': 'Flight Count'},\n",
    "    height=600\n",
    ")\n",
    "\n"
   ]
  },
  {
   "cell_type": "markdown",
   "id": "f18237ec",
   "metadata": {},
   "source": [
    "#### 15. Which airlines operate longer routes on specific days of the week?"
   ]
  },
  {
   "cell_type": "code",
   "execution_count": null,
   "id": "0107f814",
   "metadata": {},
   "outputs": [],
   "source": [
    "avg_distance = df.groupby(['airline', 'day'])['distance'].mean().reset_index().sort_values(by= 'distance',ascending= False)\n",
    "avg_distance"
   ]
  },
  {
   "cell_type": "code",
   "execution_count": null,
   "id": "c6acb64d",
   "metadata": {},
   "outputs": [],
   "source": [
    "fig = px.scatter(\n",
    "    avg_distance,\n",
    "    x='day',\n",
    "    y='distance',\n",
    "    color='airline',\n",
    "    size='distance',\n",
    "    title='Flight distance by airline and Day of the Week',\n",
    "    labels={'day': 'Day of Week', 'distance': 'Average Distance (miles)'}\n",
    ")\n",
    "fig.show()\n"
   ]
  },
  {
   "cell_type": "code",
   "execution_count": null,
   "id": "51181915",
   "metadata": {},
   "outputs": [],
   "source": [
    "px.bar(avg_distance, x='day', y='distance', color='airline', barmode='group', title='Average Flight distance by Airline and Day of the Week',\n",
    "       labels={'day': 'Day of Week', 'distance': 'Average Distance (miles)'}, width= 1500)"
   ]
  },
  {
   "cell_type": "code",
   "execution_count": null,
   "id": "9b5bb30d",
   "metadata": {},
   "outputs": [],
   "source": [
    "df.head()"
   ]
  },
  {
   "cell_type": "markdown",
   "id": "cf8211e0",
   "metadata": {},
   "source": [
    "# Deployment (streamlit)"
   ]
  },
  {
   "cell_type": "code",
   "execution_count": null,
   "id": "c6283ec9",
   "metadata": {},
   "outputs": [],
   "source": [
    "# Save Cleaned Dataframe\n",
    "df.to_csv('Flight_Canselled_Delay_C.csv', index= False)"
   ]
  },
  {
   "cell_type": "code",
   "execution_count": null,
   "id": "ec33457e",
   "metadata": {},
   "outputs": [],
   "source": [
    "import streamlit as st"
   ]
  },
  {
   "cell_type": "code",
   "execution_count": null,
   "id": "1bfd65a2",
   "metadata": {},
   "outputs": [],
   "source": [
    "%%writefile Home.py\n",
    "\n",
    "import streamlit as st\n",
    "\n",
    "st.set_page_config(page_title=\"Flight Delay Dashboard\", layout=\"wide\", page_icon=\"✈️\")\n",
    "\n",
    "# Title\n",
    "st.markdown(\"\"\"<h1 style='text-align: center; color: #003049; font-size: 50px;'>\n",
    "                    ✈️ Flight Delay and Cancellation Analysis\n",
    "                    <h1 style='text-align: center; color: #003049; 'font-size: 50px; color: #003049;'>\n",
    "                        (2019 - 2023)\n",
    "                    </h1>\n",
    "                </h1>\"\"\", unsafe_allow_html=True)\n",
    "\n",
    "# Description\n",
    "st.markdown(\"\"\"\n",
    "    <div style='background-color: #c7d9be; padding: 25px; border-radius: 12px;'>\n",
    "        <p style='font-size: 18px; color: #264653;'>\n",
    "            Welcome to the <strong>Flight Delay and Cancellation Analysis Dashboard</strong>.<br>\n",
    "            This dashboard explores U.S. Flight data from 2019 to 2023 to cover insights related to:\n",
    "        </p>\n",
    "        <ul style='font-size: 17px; color: #2a9d8f;'>\n",
    "            <li>🛫 Airport activity</li>\n",
    "            <li>⏱️ Flight delays</li>\n",
    "            <li>❌ Cancellations</li>\n",
    "            <li>📊 Airline performance</li>\n",
    "            <li>📌 And more...</li>\n",
    "        </ul>\n",
    "        <p style='font-size: 16px; color: #264653;'>\n",
    "            Use the sidebar to explore interactive visualizations and uncover insights that help understand U.S. flight trends and challenges.\n",
    "        </p>\n",
    "    </div>\n",
    "\"\"\", unsafe_allow_html=True)\n",
    "\n",
    "# Navigation Links \n",
    "st.markdown(\"### 📂 Explore the Dashboard\")\n",
    "st.page_link(\"pages/1-Flight_Overview.py\", label=\"📈 Flight Overview\")\n",
    "st.page_link(\"pages/2-Airline_Analysis.py\", label=\"🛩️ Airline Analysis\")\n",
    "st.page_link(\"pages/3-Airport_Analysis.py\", label=\"🛬 Airport Analysis\")\n",
    "st.page_link(\"pages/4-Project_Presentation.py\", label=\"🗂️ Project Presentation\")\n",
    "st.page_link(\"pages/5-About.py\", label=\"👤 About Me\")\n",
    "\n",
    "# About Me Section\n",
    "st.markdown(\"---\")\n",
    "st.markdown(\"### 👨‍💻 About the Developer\")\n",
    "st.markdown(\"\"\"\n",
    "            - **Name:** Ahmed Shlaby  \n",
    "            - **GitHub:** [github.com/ahmedshlaby](https://github.com/ahmedshlaby)  \n",
    "            - **LinkedIn:** [linkedin.com/in/ahmedshlaby](https://linkedin.com/in/ahmedshlaby)  \n",
    "            - **Email:** [shalabyahmed299@gmail.com](mailto:shalabyahmed299@gmail.com)\n",
    "            \"\"\")\n",
    "\n",
    "\n",
    "# Footer\n",
    "st.markdown(\"\"\"---\"\"\")\n",
    "st.markdown(\"\"\"\n",
    "                <p style='text-align: center; font-size: 14px;'>\n",
    "                    © 2025 | Developed by <strong>Ahmed Shlaby</strong> | 📧 <a href=\"mailto:shalabyahmed299@gmail.com\">Contact</a>\n",
    "                </p>\n",
    "            \"\"\", unsafe_allow_html=True)\n"
   ]
  },
  {
   "cell_type": "code",
   "execution_count": null,
   "id": "2ce3e17b",
   "metadata": {},
   "outputs": [],
   "source": [
    "%%writefile pages/1-Flight_Overview.py\n",
    "\n",
    "\n",
    "import streamlit as st\n",
    "import pandas as pd\n",
    "import plotly.express as px\n",
    "from PIL import Image\n",
    "\n",
    "# Function to format large numbers\n",
    "def format_number(n):\n",
    "    if n >= 1_000_000:\n",
    "        return f\"{n/1_000_000:.1f}M\"\n",
    "    elif n >= 1_000:\n",
    "        return f\"{n/1_000:.1f}K\"\n",
    "    else:\n",
    "        return str(n)\n",
    "\n",
    "\n",
    "# Page configuration\n",
    "st.set_page_config(page_title=\"Flight Analysis Dashboard\", page_icon=\"✈️\", layout=\"wide\", initial_sidebar_state=\"expanded\")\n",
    "\n",
    "\n",
    "# CSS style f\n",
    "st.markdown(\"\"\"\n",
    "    <style>\n",
    "    .kpi-card {\n",
    "        background-color: #c7d9be;\n",
    "        border-radius: 16px;\n",
    "        padding: 20px;\n",
    "        text-align: center;\n",
    "        box-shadow: 0 4px 10px rgba(0, 0, 0, 0.05);\n",
    "        transition: transform 0.2s ease-in-out;\n",
    "        margin: 10px;\n",
    "    }\n",
    "    .kpi-card:hover {\n",
    "        transform: scale(1.02);\n",
    "        background-color: #5e8d83;\n",
    "        color: #fff;\n",
    "    }\n",
    "    .kpi-label {\n",
    "        font-size: 16px;\n",
    "        font-weight: 600;\n",
    "        color: #2f3e46;\n",
    "        margin-bottom: 8px;\n",
    "    }\n",
    "    .kpi-value {\n",
    "        font-size: 34px;\n",
    "        font-weight: 800;\n",
    "        color: #1b4332;\n",
    "        margin-bottom: 5px;\n",
    "    }\n",
    "    .kpi-delta {\n",
    "        font-size: 14px;\n",
    "        font-weight: 500;\n",
    "        color: #6c757d;\n",
    "    }\n",
    "    .kpi-card:hover .kpi-delta {\n",
    "        color: #e6f4ea;\n",
    "    }\n",
    "    </style>\n",
    "\"\"\", unsafe_allow_html=True)\n",
    "\n",
    "\n",
    "# Load dataset\n",
    "@st.cache_data\n",
    "def load_data():\n",
    "    url = \"https://www.dropbox.com/scl/fi/cdrfwk27h6sszbqg2k82b/Flight_Canselled_Delay_C.csv?rlkey=0nnticgct444wwqqjk50ctov4&st=aazxpeja&dl=1\"\n",
    "    df = pd.read_csv(url, parse_dates=[\"fl_date\"])\n",
    "    return df\n",
    "\n",
    "df = load_data()\n",
    "\n",
    "# Sidebar filters\n",
    "st.sidebar.markdown(\"## 🧭 Filters\")\n",
    "st.sidebar.markdown(\"---\")\n",
    "\n",
    "# Date Range Selector\n",
    "min_date = df['fl_date'].min().date()\n",
    "max_date = df['fl_date'].max().date()\n",
    "\n",
    "start_date, end_date = st.sidebar.date_input(\"📅 Select Date Range:\", value=(min_date, max_date), min_value=min_date, max_value=max_date)\n",
    "\n",
    "selected_airline = st.sidebar.multiselect(\"Select Airline(s):\", options=sorted(df['airline'].unique()), default=[])\n",
    "selected_origin = st.sidebar.multiselect(\"Select Origin City:\", options=sorted(df['origin_city'].unique()), default=[])\n",
    "selected_dest = st.sidebar.multiselect(\"Select Destination City:\", options=sorted(df['dest_city'].unique()), default=[])\n",
    "selected_status = st.sidebar.multiselect(\"Select Flight Status:\", options=sorted(df['flight_status'].unique()), default=[])\n",
    "\n",
    "# Apply filters\n",
    "df_filtered = df[(df['fl_date'] >= pd.to_datetime(start_date)) & (df['fl_date'] <= pd.to_datetime(end_date))]\n",
    "\n",
    "if selected_airline:\n",
    "    df_filtered = df_filtered[df_filtered['airline'].isin(selected_airline)]\n",
    "if selected_origin:\n",
    "    df_filtered = df_filtered[df_filtered['origin_city'].isin(selected_origin)]\n",
    "if selected_dest:\n",
    "    df_filtered = df_filtered[df_filtered['dest_city'].isin(selected_dest)]\n",
    "if selected_status:\n",
    "    df_filtered = df_filtered[df_filtered['flight_status'].isin(selected_status)]\n",
    "\n",
    "# Overview \n",
    "st.markdown(\"## 📊 Overview Dashboard\")\n",
    "\n",
    "# KPIs\n",
    "col1, col2, col3, col4 = st.columns(4)\n",
    "\n",
    "total_flights = df_filtered.shape[0]\n",
    "delayed_flights = df_filtered[df_filtered['dep_delay'] > 15].shape[0]\n",
    "cancelled_flights = df_filtered[df_filtered['flight_status'] == 'Cancelled'].shape[0]\n",
    "on_time_flights = total_flights - delayed_flights - cancelled_flights\n",
    "\n",
    "delay_percent = (delayed_flights / total_flights) * 100 if total_flights > 0 else 0\n",
    "cancel_percent = (cancelled_flights / total_flights) * 100 if total_flights > 0 else 0\n",
    "\n",
    "\n",
    "with col1:\n",
    "    st.markdown(f\"\"\"\n",
    "        <div class=\"kpi-card\">\n",
    "            <div class=\"kpi-label\">✈️ Total Flights</div>\n",
    "            <div class=\"kpi-value\">{format_number(total_flights)}</div>\n",
    "        </div>\n",
    "    \"\"\", unsafe_allow_html=True)\n",
    "\n",
    "\n",
    "with col2:\n",
    "    st.markdown(f\"\"\"\n",
    "        <div class=\"kpi-card\">\n",
    "            <div class=\"kpi-label\">🕒 Delayed Flights</div>\n",
    "            <div class=\"kpi-value\">{format_number(delayed_flights)}</div>\n",
    "            \n",
    "        </div>\n",
    "    \"\"\", unsafe_allow_html=True)\n",
    "\n",
    "with col3:\n",
    "    st.markdown(f\"\"\"\n",
    "        <div class=\"kpi-card\">\n",
    "            <div class=\"kpi-label\">❌ Cancelled Flights</div>\n",
    "            <div class=\"kpi-value\">{format_number(cancelled_flights)}</div>\n",
    "            \n",
    "        </div>\n",
    "    \"\"\", unsafe_allow_html=True)\n",
    "\n",
    "\n",
    "with col4:\n",
    "    st.markdown(f\"\"\"\n",
    "        <div class=\"kpi-card\">\n",
    "            <div class=\"kpi-label\">✅ On-Time Flights</div>\n",
    "            <div class=\"kpi-value\">{format_number(on_time_flights)}</div>\n",
    "        </div>\n",
    "    \"\"\", unsafe_allow_html=True)\n",
    "\n",
    "\n",
    "st.markdown(\"---\")\n",
    "\n",
    "\n",
    "# Color Palette \n",
    "custom_colors = [\"#114538\", \"#5e8d83\", \"#d2e1cc\", \"#161d23\"]\n",
    "\n",
    "# Flights Over Time\n",
    "st.markdown(\"## 📅 Flights Over Time\")\n",
    "chart_type = st.radio(\"Select Chart Type:\", [\"Line Chart\", \"Bar Chart\"], horizontal=True)\n",
    "\n",
    "df_filtered[\"year\"] = df_filtered[\"fl_date\"].dt.year\n",
    "flights_over_time = df_filtered.groupby(\"year\").size().reset_index(name=\"count\")\n",
    "\n",
    "if chart_type == \"Line Chart\":\n",
    "    st.plotly_chart(px.line(flights_over_time, x=\"year\", y=\"count\", markers=True,\n",
    "                  title=\"Flights Count Over Time\",\n",
    "                  labels={\"year\": \"Year\", \"count\": \"Number of Flights\"},\n",
    "                  template=\"plotly_white\", color_discrete_sequence=custom_colors), use_container_width=True)\n",
    "else:\n",
    "    st.plotly_chart(px.bar(flights_over_time, x=\"year\", y=\"count\",\n",
    "                 title=\"Flights Count Over Time\",\n",
    "                 labels={\"year\": \"Year\", \"count\": \"Number of Flights\"},\n",
    "                 template=\"plotly_white\", color_discrete_sequence=custom_colors), use_container_width=True)\n",
    "\n",
    "# Flight Status Distribution\n",
    "st.markdown(\"## 📌 Flight Status Distribution\")\n",
    "\n",
    "status_counts = df_filtered['flight_status'].value_counts().reset_index()\n",
    "status_counts.columns = ['Status', 'Count']\n",
    "\n",
    "st.plotly_chart(px.pie(status_counts, names='Status', values='Count',\n",
    "              title=\"Flight Status Breakdown\", hole = 0.5,\n",
    "              color_discrete_sequence=['#114538', '#5e8d83', '#d2e1cc']), use_container_width=True)\n",
    "\n",
    "\n",
    "\n",
    "# Footer\n",
    "st.markdown(\"\"\"---\"\"\")\n",
    "st.markdown(\"\"\"\n",
    "    <p style='text-align: center; font-size: 14px;'>\n",
    "        © 2025 | Developed by <strong>Ahmed Shlaby</strong> | 📧 <a href=\"mailto:shalabyahmed299@gmail.com\">Contact</a>\n",
    "    </p>\n",
    "\"\"\", unsafe_allow_html=True)\n"
   ]
  },
  {
   "cell_type": "code",
   "execution_count": null,
   "id": "4dfea9b7",
   "metadata": {},
   "outputs": [],
   "source": [
    "%%writefile pages/2-Airline_Analysis.py\n",
    "\n",
    "import streamlit as st\n",
    "import pandas as pd\n",
    "import plotly.express as px\n",
    "\n",
    "# Page configuration\n",
    "st.set_page_config(page_title=\"Airline Insights\", page_icon=\"📈\", layout=\"wide\")\n",
    "\n",
    "# Load dataset\n",
    "@st.cache_data\n",
    "def load_data():\n",
    "    url = \"https://www.dropbox.com/scl/fi/cdrfwk27h6sszbqg2k82b/Flight_Canselled_Delay_C.csv?rlkey=0nnticgct444wwqqjk50ctov4&st=aazxpeja&dl=1\"\n",
    "    df = pd.read_csv(url, parse_dates=[\"fl_date\"])\n",
    "    return df\n",
    "\n",
    "df = load_data()\n",
    "\n",
    "# Sidebar filters\n",
    "st.sidebar.markdown(\"## ✈️ Airline Insights Filters\")\n",
    "st.sidebar.markdown(\"---\")\n",
    "\n",
    "min_date = df['fl_date'].min().date()\n",
    "max_date = df['fl_date'].max().date()\n",
    "\n",
    "start_date, end_date = st.sidebar.date_input(\"📅 Select Date Range:\", value=(min_date, max_date), min_value=min_date, max_value=max_date)\n",
    "\n",
    "selected_airline = st.sidebar.multiselect(\"Select Airline(s):\", options=sorted(df['airline'].unique()), default=[])\n",
    "selected_status = st.sidebar.multiselect(\"Select Flight Status:\", options=sorted(df['flight_status'].unique()), default=[])\n",
    "\n",
    "# Filter data\n",
    "df_filtered = df[(df['fl_date'] >= pd.to_datetime(start_date)) & (df['fl_date'] <= pd.to_datetime(end_date))]\n",
    "\n",
    "if selected_airline:\n",
    "    df_filtered = df_filtered[df_filtered['airline'].isin(selected_airline)]\n",
    "if selected_status:\n",
    "    df_filtered = df_filtered[df_filtered['flight_status'].isin(selected_status)]\n",
    "\n",
    "\n",
    "# tabs for choise\n",
    "tab1, tab2, tab3, tab4 = st.tabs([\"📊 Overview\", \"❌ Cancellation Analysis\", \"🕒 Delay Analysis\", \"🔁 Compare Airlines\"])\n",
    "\n",
    "\n",
    "# Top Airlines by Count (overview tab)\n",
    "with tab1:\n",
    "    st.markdown(\"## 🏆 Top 10 Airlines by Flight Count\")\n",
    "    top_airlines = df_filtered['airline'].value_counts().nlargest(10).reset_index()\n",
    "    top_airlines.columns = ['Airline', 'Flights']\n",
    "\n",
    "    st.plotly_chart(px.bar(top_airlines, x='Airline', y='Flights',\n",
    "                title=\"Top 10 Airlines by Number of Flights\",\n",
    "                color='Flights', color_continuous_scale='Tealgrn',\n",
    "                template='plotly_white'), use_container_width=True)\n",
    "\n",
    "    # Flights Distribution by Time of Day\n",
    "    st.markdown(\"## ☀️ Flights Distribution by Time of Day\")\n",
    "\n",
    "    dep_period_counts = df_filtered.groupby(['airline', 'dep_time_Period']).size().reset_index(name='flight_count').sort_values(by= 'flight_count', ascending= False)\n",
    "\n",
    "    st.plotly_chart(px.bar(dep_period_counts,\n",
    "                x='airline',\n",
    "                y='flight_count',\n",
    "                color='dep_time_Period',\n",
    "                title='Flights by Time of Day and Airline',\n",
    "                barmode='group',\n",
    "                labels={'flight_count': 'Number of Flights', 'dep_time_Period': 'Time Period'},\n",
    "                template='plotly_white',\n",
    "                color_discrete_sequence=px.colors.sequential.Tealgrn), use_container_width=True)\n",
    "\n",
    "    \n",
    "\n",
    "# Cancellation Rate by Airline\n",
    "with tab2:\n",
    "    st.markdown(\"## ❌ Cancellation Rate by Airline\")\n",
    "    tab1, tab2 = st.tabs([\"🥧 Pie Chart\", \"📊 Bar Chart\"])\n",
    "\n",
    "    cancel_data = df_filtered.groupby(\"airline\").agg(\n",
    "        total_flights=('flight_status', 'count'),\n",
    "        cancelled_flights=('flight_status', lambda x: (x == 'Cancelled').sum())).reset_index()\n",
    "\n",
    "    cancel_data['cancellation_rate'] = (cancel_data['cancelled_flights'] / cancel_data['total_flights']) * 100\n",
    "\n",
    "    # Monthly Cancellation Rate per Airline\n",
    "    st.markdown(\"## 📉 Monthly Cancellation Rate per Airline\")\n",
    "\n",
    "    df_filtered['month'] = df_filtered['fl_date'].dt.to_period('M').astype(str)\n",
    "    monthly_cancel = df_filtered.groupby(['month', 'airline'])['cancelled'].mean().reset_index()\n",
    "\n",
    "    st.plotly_chart(px.line(monthly_cancel, x='month', y='cancelled', color='airline',\n",
    "                title='Monthly Cancellation Rate per Airline',\n",
    "                labels={'cancelled': 'Cancellation Rate'},\n",
    "                template='plotly_white', color_discrete_sequence=px.colors.sequential.Tealgrn), use_container_width=True)\n",
    "\n",
    "\n",
    "    with tab1:  # Pie Chart\n",
    "        st.plotly_chart(\n",
    "            px.pie(cancel_data, names=\"airline\", values=\"cancellation_rate\",\n",
    "                title=\"Pie Chart: Cancellation Rate Distribution\",\n",
    "                color_discrete_sequence=px.colors.sequential.Tealgrn), use_container_width=True)\n",
    "\n",
    "\n",
    "    with tab2:  # Bar Chart\n",
    "        st.plotly_chart(\n",
    "            px.bar(cancel_data.sort_values(by=\"cancellation_rate\", ascending=False),\n",
    "                x=\"airline\", y=\"cancellation_rate\",\n",
    "                title=\"Bar Chart: Cancellation Rate by Airline (%)\",\n",
    "                labels={\"airline\": \"Airline\", \"cancellation_rate\": \"Cancellation Rate (%)\"},\n",
    "                color=\"cancellation_rate\", color_continuous_scale='Tealgrn',\n",
    "                template=\"plotly_white\"), use_container_width=True)\n",
    "\n",
    "\n",
    "\n",
    "\n",
    "# Average Delay by Airline\n",
    "with tab3:\n",
    "    st.markdown(\"## 🕒 Average Departure Delay by Airline\")\n",
    "\n",
    "    avg_delay = df_filtered.groupby('airline')['dep_delay'].mean().reset_index().sort_values(by='dep_delay', ascending=False)\n",
    "\n",
    "    st.plotly_chart(px.bar(avg_delay, x='airline', y='dep_delay',\n",
    "                title='Average Departure Delay (in minutes)',\n",
    "                labels={'airline': 'Airline', 'dep_delay': 'Avg Departure Delay'},\n",
    "                color='dep_delay', color_continuous_scale='Tealgrn',\n",
    "                template='plotly_white'), use_container_width=True)\n",
    "    \n",
    "    # for arr delay\n",
    "    st.markdown(\"## 🕒 Average Arrival Delay by Airline\")\n",
    "\n",
    "    avg_delay = df_filtered.groupby('airline')['arr_delay'].mean().reset_index().sort_values(by='arr_delay', ascending=False)\n",
    "\n",
    "    st.plotly_chart(px.bar(avg_delay, x='airline', y='arr_delay',\n",
    "                title='Average Departure Delay (in minutes)',\n",
    "                labels={'airline': 'Airline', 'arr_delay': 'Avg Departure Delay'},\n",
    "                color='arr_delay', color_continuous_scale='Tealgrn',\n",
    "                template='plotly_white'), use_container_width=True)\n",
    "\n",
    "\n",
    "# compare between 2 Airline\n",
    "with tab4:\n",
    "    st.markdown(\"## ✈️ Compare Airlines\")\n",
    "\n",
    "    airlines_to_compare = st.multiselect(\n",
    "        \"Select up to 2 Airlines to Compare:\",\n",
    "        options=df_filtered['airline'].unique(),\n",
    "        default=df_filtered['airline'].unique()[:2],\n",
    "        max_selections=2\n",
    "    )\n",
    "\n",
    "    if len(airlines_to_compare) == 2:\n",
    "        compare_df = df_filtered[df_filtered['airline'].isin(airlines_to_compare)]\n",
    "\n",
    "        # Total per airlinee\n",
    "        compare_grouped = compare_df.groupby('airline').agg(\n",
    "            total_flights=('flight_status', 'count'),\n",
    "            cancelled_flights=('flight_status', lambda x: (x == 'Cancelled').sum()),\n",
    "            avg_delay=('dep_delay', 'mean')\n",
    "        ).reset_index()\n",
    "\n",
    "        compare_grouped['cancellation_rate'] = (compare_grouped['cancelled_flights'] / compare_grouped['total_flights']) * 100\n",
    "\n",
    "        # Kpis\n",
    "        st.markdown(\"### 📌 Key Metrics\")\n",
    "        col1, col2 = st.columns(2)\n",
    "\n",
    "        with col1:\n",
    "            st.metric(label=f\"{airlines_to_compare[0]} - Total Flights\", value=compare_grouped.loc[0, 'total_flights'])\n",
    "            st.metric(label=f\"{airlines_to_compare[0]} - Cancellation Rate\", value=f\"{compare_grouped.loc[0, 'cancellation_rate']:.2f}%\")\n",
    "            st.metric(label=f\"{airlines_to_compare[0]} - Avg Delay\", value=f\"{compare_grouped.loc[0, 'avg_delay']:.2f} min\")\n",
    "\n",
    "        with col2:\n",
    "            st.metric(label=f\"{airlines_to_compare[1]} - Total Flights\", value=compare_grouped.loc[1, 'total_flights'])\n",
    "            st.metric(label=f\"{airlines_to_compare[1]} - Cancellation Rate\", value=f\"{compare_grouped.loc[1, 'cancellation_rate']:.2f}%\")\n",
    "            st.metric(label=f\"{airlines_to_compare[1]} - Avg Delay\", value=f\"{compare_grouped.loc[1, 'avg_delay']:.2f} min\")\n",
    "\n",
    "        # Comparison Table\n",
    "        st.markdown(\"### 📊 Comparison Table\")\n",
    "        st.dataframe(compare_grouped)\n",
    "\n",
    "        # charts\n",
    "        st.markdown(\"### 📈 Comparison Charts\")\n",
    "        st.plotly_chart(\n",
    "            px.bar(compare_grouped, x='airline', y='total_flights',\n",
    "                title=\"Total Flights per Airline\", color='total_flights',\n",
    "                color_continuous_scale='Tealgrn', template='plotly_white',\n",
    "                labels = {'airline' : 'AirLine', 'total_flights': 'Number Of Flights'},\n",
    "                text_auto=True),\n",
    "            use_container_width=True)\n",
    "\n",
    "        st.plotly_chart(\n",
    "            px.bar(compare_grouped, x='airline', y='cancellation_rate',\n",
    "                title=\"Cancellation Rate (%) per Airline\", color='cancellation_rate',\n",
    "                color_continuous_scale='Tealgrn', template='plotly_white',\n",
    "                labels = {'airline' : 'AirLine', 'cancellation_rate': 'Cancellation Rate'},\n",
    "                text_auto='.2f'),\n",
    "            use_container_width=True)\n",
    "\n",
    "        st.plotly_chart(\n",
    "            px.bar(compare_grouped, x='airline', y='avg_delay',\n",
    "                title=\"Average Delay (minutes) per Airline\", color='avg_delay',\n",
    "                color_continuous_scale='Tealgrn', template='plotly_white',\n",
    "                labels = {'airline' : 'AirLine', 'avg_delay': 'Avg Delay (min)'},\n",
    "                text_auto='.2f'),\n",
    "            use_container_width=True)\n",
    "\n",
    "        # Monthly Comparison\n",
    "        st.markdown(\"### 🗓️ Monthly Comparison\")\n",
    "\n",
    "        monthly_compare = compare_df.copy()\n",
    "        monthly_compare['month'] = monthly_compare['fl_date'].dt.to_period('M').astype(str)\n",
    "\n",
    "        monthly_summary = monthly_compare.groupby(['month', 'airline']).agg(\n",
    "            total_flights=('flight_status', 'count'),\n",
    "            cancelled_flights=('flight_status', lambda x: (x == 'Cancelled').sum()),\n",
    "            avg_delay=('dep_delay', 'mean')\n",
    "        ).reset_index()\n",
    "\n",
    "        monthly_summary['cancellation_rate'] = (monthly_summary['cancelled_flights'] / monthly_summary['total_flights']) * 100\n",
    "\n",
    "        st.plotly_chart(px.line(monthly_summary, x='month', y='total_flights', color='airline',\n",
    "                      title='Monthly Flight Count per Airline',\n",
    "                      labels = {'month' : 'Month (year)', 'total_flights': 'Total Flights'},\n",
    "                      template='plotly_white'), use_container_width=True)\n",
    "        \n",
    "        \n",
    "        # Analysis insight \n",
    "        st.markdown(\"### 🧠 Insight\")\n",
    "\n",
    "        if compare_grouped.loc[0, 'avg_delay'] > compare_grouped.loc[1, 'avg_delay']:\n",
    "            worst_airline = compare_grouped.loc[0, 'airline']\n",
    "        else:\n",
    "            worst_airline = compare_grouped.loc[1, 'airline']\n",
    "\n",
    "        st.info(f\"📌 Based on the current data, **{worst_airline}** has a higher average delay.\")\n",
    "\n",
    "\n",
    "\n",
    "\n",
    "# Footer\n",
    "st.markdown(\"\"\"---\"\"\")\n",
    "st.markdown(\"\"\"\n",
    "    <p style='text-align: center; font-size: 14px;'>\n",
    "        © 2025 | Developed by <strong>Ahmed Shlaby</strong> | 📧 <a href=\"mailto:shalabyahmed299@gmail.com\">Contact</a>\n",
    "    </p>\n",
    "\"\"\", unsafe_allow_html=True)\n",
    "\n"
   ]
  },
  {
   "cell_type": "code",
   "execution_count": null,
   "id": "89029ff7",
   "metadata": {},
   "outputs": [],
   "source": [
    "%%writefile pages/3-Airport_Analysis.py\n",
    "\n",
    "import streamlit as st\n",
    "import pandas as pd\n",
    "import plotly.express as px\n",
    "\n",
    "# Page configuration\n",
    "st.set_page_config(page_title=\"Airport Analysis\", page_icon=\"🛫\", layout=\"wide\")\n",
    "st.title(\"🛫 Airport Analysis\")\n",
    "\n",
    "# Load dataset\n",
    "@st.cache_data\n",
    "def load_data():\n",
    "    url = \"https://www.dropbox.com/scl/fi/cdrfwk27h6sszbqg2k82b/Flight_Canselled_Delay_C.csv?rlkey=0nnticgct444wwqqjk50ctov4&st=aazxpeja&dl=1\"\n",
    "    df = pd.read_csv(url, parse_dates=[\"fl_date\"])\n",
    "    return df\n",
    "\n",
    "df = load_data()\n",
    "\n",
    "# Sidebar - Airport selection\n",
    "st.sidebar.header(\"✈️ Filter Airports\")\n",
    "airport_options = df['origin'].value_counts().head(20).index.tolist()\n",
    "selected_airports = st.sidebar.multiselect(\"Select Origin Airports\", airport_options, default=[])\n",
    "\n",
    "\n",
    "\n",
    "\n",
    "if selected_airports:\n",
    "    df = df[df['origin'].isin(selected_airports)]\n",
    "\n",
    "\n",
    "# Tabs for different analyses\n",
    "tab1, tab2, tab3, tab4 = st.tabs([\"📊 Overview\", \"❌ Cancellation Analysis\", \"⏱️ Delay Analysis\", \"🔍 Compare Airports\"])\n",
    "\n",
    "with tab1:\n",
    "    st.subheader(\"Top 10 Crowded Airports\")\n",
    "    origin_counts = df['origin'].value_counts().head(10).reset_index()\n",
    "    origin_counts.columns = ['Origin Airport', 'Flight Count']\n",
    "    st.plotly_chart(px.bar(origin_counts, x='Origin Airport', y='Flight Count', \n",
    "                    color_continuous_scale='Tealgrn', color= 'Flight Count'), use_container_width=True)\n",
    "\n",
    "\n",
    "with tab2:\n",
    "    st.subheader(\"Cancellation Rate by Airport\")\n",
    "    cancel_rate = df.groupby('origin')['cancelled'].mean().sort_values(ascending=False).head(10).reset_index()\n",
    "    cancel_rate.columns = ['Origin Airport', 'Cancellation Rate']\n",
    "    st.plotly_chart(px.bar(cancel_rate, x='Origin Airport', y='Cancellation Rate', title='Top 10 Airports by Cancellation Rate',\n",
    "                     color='Cancellation Rate', color_continuous_scale='Tealgrn'), use_container_width=True)\n",
    "\n",
    "\n",
    "with tab3:\n",
    "    st.subheader(\"Top 10 Airports by Average Departure Delay\")\n",
    "    dep_delay = df.groupby('origin')['dep_delay'].mean().sort_values(ascending=False).head(10).reset_index()\n",
    "    dep_delay.columns = ['Origin Airport', 'Average Departure Delay']\n",
    "    fig_dep = px.bar(dep_delay, x='Origin Airport', y='Average Departure Delay', \n",
    "                     color='Average Departure Delay', color_continuous_scale='Tealgrn',\n",
    "                     title='Top 10 Airports by Average Departure Delay')\n",
    "    st.plotly_chart(fig_dep, use_container_width=True)\n",
    "\n",
    "    st.subheader(\"Top 10 Airports by Average Arrival Delay\")\n",
    "    arr_delay = df.groupby('dest')['arr_delay'].mean().sort_values(ascending=False).head(10).reset_index()\n",
    "    arr_delay.columns = ['Destination Airport', 'Average Arrival Delay']\n",
    "    fig_arr = px.bar(arr_delay, x='Destination Airport', y='Average Arrival Delay',\n",
    "                     color='Average Arrival Delay', color_continuous_scale='Tealgrn',\n",
    "                     title='Top 10 Airports by Average Arrival Delay')\n",
    "    st.plotly_chart(fig_arr, use_container_width=True)\n",
    "\n",
    "\n",
    "with tab4:\n",
    "    st.subheader(\"Compare Two Airports\")\n",
    "    airport_compare = st.multiselect(\"Select Two Airports to Compare\", df['origin'].unique(), default=df['origin'].unique()[:2])\n",
    "\n",
    "    if len(airport_compare) == 2:\n",
    "        airport_df = df[df['origin'].isin(airport_compare)]\n",
    "        comp_stats = airport_df.groupby('origin').agg({\n",
    "            'dep_delay': 'mean',\n",
    "            'arr_delay': 'mean',\n",
    "            'cancelled': 'mean'}).reset_index()\n",
    "\n",
    "        st.plotly_chart(px.bar(\n",
    "            comp_stats.melt(id_vars='origin', var_name='Metric', value_name='Value'),\n",
    "            x='origin', y='Value', color='Metric', barmode='group',\n",
    "            title='Airport Comparison: Cancellation Rate & Delay',\n",
    "            color_discrete_sequence=['#005f73', '#0a9396', '#ee9b00']), use_container_width=True)\n",
    "\n",
    "\n",
    "# Footer\n",
    "st.markdown(\"\"\"---\"\"\")\n",
    "st.markdown(\"\"\"\n",
    "    <p style='text-align: center; font-size: 14px;'>\n",
    "        © 2025 | Developed by <strong>Ahmed Shlaby</strong> | 📧 <a href=\"mailto:shalabyahmed299@gmail.com\">Contact</a>\n",
    "    </p>\n",
    "\"\"\", unsafe_allow_html=True)\n",
    "\n",
    "\n",
    "\n"
   ]
  },
  {
   "cell_type": "code",
   "execution_count": null,
   "id": "fdd30d2f",
   "metadata": {},
   "outputs": [],
   "source": [
    "%%writefile pages/4-Project_Presentation.py\n",
    "\n",
    "import streamlit as st\n",
    "\n",
    "st.set_page_config(page_title=\"Project Presentation\", layout=\"wide\")\n",
    "\n",
    "# Title\n",
    "st.markdown(\"\"\"\n",
    "    <h1 style='text-align: center; color: #003049; font-size: 42px; margin-bottom: 20px;'>\n",
    "        📊 Flight Delay & Cancellation Project Presentation\n",
    "    </h1>\n",
    "\"\"\", unsafe_allow_html=True)\n",
    "\n",
    "# Section 1: Data Understanding\n",
    "st.header(\"1. Data Understanding\")\n",
    "st.markdown(\"\"\"\n",
    "- Loaded flight data from CSV containing records from 2019 to 2023.\n",
    "- Data includes features such as flight date, origin, destination, delays, cancellation status, and airline info.\n",
    "- Main goal: Analyze flight delay and cancellation patterns across US airports and airlines.\n",
    "\"\"\")\n",
    "\n",
    "# Section 2: Data Cleaning\n",
    "st.header(\"2. Data Cleaning & Preparation\")\n",
    "st.markdown(\"\"\"\n",
    "- Converted `fl_date` column to datetime format.\n",
    "- Extracted new features: `month` and `day_of_week` from the flight date.\n",
    "- Removed irrelevant columns that do not contribute to prediction or cause data leakage, e.g., actual delay times, flight status, and city names.\n",
    "- Removed duplicate rows.\n",
    "- Dropped rows with missing values in important columns like `crs_elapsed_time`.\n",
    "\"\"\")\n",
    "\n",
    "# Section 3: Exploratory Data Analysis (EDA)\n",
    "st.header(\"3. Exploratory Data Analysis (EDA)\")\n",
    "st.markdown(\"\"\"\n",
    "- Visualized key trends using interactive charts:\n",
    "  - Top 10 busiest airports by number of flights.\n",
    "  - Airports with highest cancellation rates.\n",
    "  - Average departure and arrival delays by airports.\n",
    "- Used bar charts, pie charts, and line charts for clear insights.\n",
    "- This analysis helped to understand the data distribution and focus areas.\n",
    "\"\"\")\n",
    "\n",
    "# Section 4: Streamlit Dashboard\n",
    "st.header(\"4. Interactive Dashboard with Streamlit\")\n",
    "st.markdown(\"\"\"\n",
    "- Built a multi-page Streamlit app to display analysis results.\n",
    "- Pages include:\n",
    "  - **Home:** Project overview and contact info.\n",
    "  - **Flight Overview:** KPIs and overall flight trends.\n",
    "  - **Airline Analysis:** Performance metrics by airline.\n",
    "  - **Airport Analysis:** Deep dive into airport delays and cancellations.\n",
    "- Used Plotly for dynamic and responsive visualizations.\n",
    "- Applied consistent color schemes and user-friendly layout.\n",
    "\"\"\")\n",
    "\n",
    "# Section 5: Data Preprocessing for Modeling\n",
    "st.header(\"5. Data Preprocessing for Machine Learning\")\n",
    "st.markdown(\"\"\"\n",
    "- Split data into features (`X`) and target (`y`) where target is `cancelled` (flight cancellation status).\n",
    "- Performed train-test split (80% train, 20% test) with stratification to maintain class distribution.\n",
    "- For numerical features:\n",
    "  - Applied `RobustScaler` to normalize data and reduce the impact of outliers.\n",
    "- For categorical features:\n",
    "  - Used `BinaryEncoder` to convert categorical variables into numeric format.\n",
    "\"\"\")\n",
    "\n",
    "# Section 6: Handling Imbalanced Data\n",
    "st.header(\"6. Handling Class Imbalance\")\n",
    "st.markdown(\"\"\"\n",
    "- The dataset is imbalanced: fewer cancelled flights compared to non-cancelled.\n",
    "- Used **SMOTE (Synthetic Minority Oversampling Technique)** to generate synthetic samples for the minority class.\n",
    "- This helps improve model training by balancing the classes and preventing bias toward the majority class.\n",
    "\"\"\")\n",
    "\n",
    "# foter\n",
    "st.markdown(\"---\")\n",
    "st.markdown(\"\"\"\n",
    "<p style='text-align:center; font-size: 14px; color: #555;'>\n",
    "    © 2025 | Developed by Ahmed Shlaby | 📧 <a href=\"mailto:shalabyahmed299@gmail.com\">Contact Me</a>\n",
    "</p>\n",
    "\"\"\", unsafe_allow_html=True)\n",
    "\n",
    "\n"
   ]
  },
  {
   "cell_type": "code",
   "execution_count": null,
   "id": "be766e93",
   "metadata": {},
   "outputs": [],
   "source": [
    "%%writefile pages/5-About.py\n",
    "\n",
    "import streamlit as st\n",
    "\n",
    "# Page configuration\n",
    "st.set_page_config(page_title=\"About Me\", page_icon=\"👤\", layout=\"centered\")\n",
    "\n",
    "# Page title\n",
    "st.title(\"👤 About Me\")\n",
    "\n",
    "# Display profile picture \n",
    "st.image(\"MYIMAGE_Copy.jpg\", width=200)\n",
    "\n",
    "# introduction\n",
    "st.markdown(\"\"\"\n",
    "Hi! I'm **Ahmed Shlaby**, a passionate Data Scientist and Python developer with a strong interest in flight data analysis and visualization.\n",
    "\n",
    "---\n",
    "\n",
    "### 🧑‍🎓 Background\n",
    "- Bachelor's degree in Information Technology and Computer Science  \n",
    "- Certified Data Scientist Professional (CDSP) from Epsilon AI  \n",
    "- Certified Data Analysis Professional (CDAP) from Epsilon AI  \n",
    "- Experienced in data analysis, visualization, and deploying interactive dashboards using Streamlit\n",
    "\n",
    "---\n",
    "\n",
    "### 🛠 Skills & Tools\n",
    "- Python (Pandas, NumPy, Sklearn)  \n",
    "- Data Visualization (Plotly, Seaborn, Matplotlib)  \n",
    "- Dashboarding with Streamlit  \n",
    "- Machine Learning basics & Data Preprocessing  \n",
    "- GitHub for version control\n",
    "\n",
    "---\n",
    "\n",
    "### 📫 Contact Me\n",
    "- **Email:** [shalabyahmed299@gmail.com](mailto:shalabyahmed299@gmail.com)  \n",
    "- **LinkedIn:** [linkedin.com/in/ahmedshlaby](https://linkedin.com/in/ahmedshlaby)  \n",
    "- **GitHub:** [github.com/ahmedshlaby](https://github.com/ahmedshlaby)  \n",
    "\n",
    "---\n",
    "\n",
    "Thank you for visiting my project! Feel free to reach out for collaboration or questions.\n",
    "\"\"\")\n",
    "\n",
    "# foter\n",
    "st.markdown(\"---\")\n",
    "st.markdown(\"\"\"\n",
    "<p style='text-align:center; font-size: 14px; color: #555;'>\n",
    "    © 2025 | Developed by Ahmed Shlaby | 📧 <a href=\"mailto:shalabyahmed299@gmail.com\">Contact Me</a>\n",
    "</p>\n",
    "\"\"\", unsafe_allow_html=True)\n"
   ]
  },
  {
   "cell_type": "code",
   "execution_count": null,
   "id": "cba190ec",
   "metadata": {},
   "outputs": [],
   "source": [
    "! streamlit run Home.py"
   ]
  },
  {
   "cell_type": "code",
   "execution_count": null,
   "id": "783d32a6",
   "metadata": {},
   "outputs": [],
   "source": [
    "! pipreqs ./"
   ]
  },
  {
   "cell_type": "markdown",
   "id": "54a398bf",
   "metadata": {},
   "source": [
    "# Preprocessing Phase"
   ]
  },
  {
   "cell_type": "code",
   "execution_count": null,
   "id": "5466bd01",
   "metadata": {},
   "outputs": [],
   "source": [
    "df = pd.read_csv('Flight_Canselled_Delay_C.csv')"
   ]
  },
  {
   "cell_type": "code",
   "execution_count": null,
   "id": "15b5c230",
   "metadata": {},
   "outputs": [],
   "source": [
    "# update columns month , day to numbers\n",
    "df.fl_date = pd.to_datetime(df.fl_date)\n",
    "df.fl_date\n",
    "\n",
    "df['month'] = df.fl_date.dt.month\n",
    "df['day_of_week'] = df.fl_date.dt.day_of_week\n"
   ]
  },
  {
   "cell_type": "code",
   "execution_count": null,
   "id": "8c1f1103",
   "metadata": {},
   "outputs": [],
   "source": [
    "# drop unnecessary columns\n",
    "df.drop(columns= ['fl_date', 'origin_city', 'dest_city', 'wheels_off', 'wheels_on','cancellation_code', 'elapsed_time', 'flight_status',\n",
    "                    'diverted_status', 'dep_time_Period', 'arr_time_Period', 'dep_time', 'arr_time', 'dep_delay', 'arr_delay',\n",
    "                    'air_time', 'taxi_out', 'taxi_in', 'diverted', \n",
    "                    'delay_due_carrier', 'delay_due_weather',\n",
    "                    'delay_due_nas', 'delay_due_security', 'delay_due_late_aircraft', 'cancellation_reason', 'day'], axis= 1, inplace= True)"
   ]
  },
  {
   "cell_type": "code",
   "execution_count": null,
   "id": "678ccec5",
   "metadata": {},
   "outputs": [],
   "source": [
    "df.duplicated().sum()"
   ]
  },
  {
   "cell_type": "code",
   "execution_count": null,
   "id": "91100cae",
   "metadata": {},
   "outputs": [],
   "source": [
    "35701 / 1000000"
   ]
  },
  {
   "cell_type": "code",
   "execution_count": null,
   "id": "e9d05b0c",
   "metadata": {},
   "outputs": [],
   "source": [
    "df.drop_duplicates(inplace= True, ignore_index= True)"
   ]
  },
  {
   "cell_type": "code",
   "execution_count": null,
   "id": "d6a72a0a",
   "metadata": {},
   "outputs": [],
   "source": [
    "df.duplicated().sum()"
   ]
  },
  {
   "cell_type": "code",
   "execution_count": null,
   "id": "3559f1e4",
   "metadata": {},
   "outputs": [],
   "source": [
    "df.isna().sum()"
   ]
  },
  {
   "cell_type": "code",
   "execution_count": null,
   "id": "96205b84",
   "metadata": {},
   "outputs": [],
   "source": [
    "# drop nan value \n",
    "df.dropna(subset= 'crs_elapsed_time', ignore_index= True, inplace= True)"
   ]
  },
  {
   "cell_type": "code",
   "execution_count": null,
   "id": "681e86fa",
   "metadata": {},
   "outputs": [],
   "source": [
    "df.duplicated().sum()"
   ]
  },
  {
   "cell_type": "code",
   "execution_count": null,
   "id": "4d963006",
   "metadata": {},
   "outputs": [],
   "source": [
    "df.head()"
   ]
  },
  {
   "cell_type": "markdown",
   "id": "9a0d20db",
   "metadata": {},
   "source": [
    "## Split Data To Input Features and Target "
   ]
  },
  {
   "cell_type": "code",
   "execution_count": null,
   "id": "ab4d4c72",
   "metadata": {},
   "outputs": [],
   "source": [
    "x = df.drop('cancelled', axis= 1)\n",
    "y = df['cancelled']"
   ]
  },
  {
   "cell_type": "markdown",
   "id": "5052a40a",
   "metadata": {},
   "source": [
    "## Split Data into Train and Test"
   ]
  },
  {
   "cell_type": "code",
   "execution_count": null,
   "id": "1535c917",
   "metadata": {},
   "outputs": [],
   "source": [
    "from sklearn.model_selection import train_test_split\n",
    "x_train, x_test, y_train, y_test = train_test_split(x, y, test_size= 0.2, random_state= 1, stratify= y)"
   ]
  },
  {
   "cell_type": "markdown",
   "id": "aafb177b",
   "metadata": {},
   "source": [
    "## Numerical"
   ]
  },
  {
   "cell_type": "markdown",
   "id": "bdd185a9",
   "metadata": {},
   "source": [
    "### impute missing value"
   ]
  },
  {
   "cell_type": "code",
   "execution_count": null,
   "id": "00c43367",
   "metadata": {},
   "outputs": [],
   "source": [
    "num_col = x_train.select_dtypes(include= 'number').columns\n",
    "num_col"
   ]
  },
  {
   "cell_type": "code",
   "execution_count": null,
   "id": "90c4894a",
   "metadata": {},
   "outputs": [],
   "source": [
    "x_test[num_col].isna().sum()"
   ]
  },
  {
   "cell_type": "code",
   "execution_count": null,
   "id": "d688e50e",
   "metadata": {},
   "outputs": [],
   "source": [
    "x_train[num_col].isna().sum()"
   ]
  },
  {
   "cell_type": "markdown",
   "id": "a84fa6a1",
   "metadata": {},
   "source": [
    "## Feature Scaling"
   ]
  },
  {
   "cell_type": "code",
   "execution_count": null,
   "id": "0b1af831",
   "metadata": {},
   "outputs": [],
   "source": [
    "from sklearn.preprocessing import RobustScaler\n",
    "\n",
    "scaler = RobustScaler()\n",
    "\n",
    "x_train[num_col] = scaler.fit_transform(x_train[num_col])\n",
    "x_test[num_col] = scaler.transform(x_test[num_col])"
   ]
  },
  {
   "cell_type": "code",
   "execution_count": null,
   "id": "16dbebc5",
   "metadata": {},
   "outputs": [],
   "source": [
    "x_train.head()"
   ]
  },
  {
   "cell_type": "code",
   "execution_count": null,
   "id": "a96125a0",
   "metadata": {},
   "outputs": [],
   "source": [
    "x_test.head()"
   ]
  },
  {
   "cell_type": "markdown",
   "id": "78bb3364",
   "metadata": {},
   "source": [
    "## Categorical"
   ]
  },
  {
   "cell_type": "code",
   "execution_count": null,
   "id": "fe907754",
   "metadata": {},
   "outputs": [],
   "source": [
    "x_train.select_dtypes(include= \"O\").isna().sum()"
   ]
  },
  {
   "cell_type": "markdown",
   "id": "c8b865da",
   "metadata": {},
   "source": [
    "### Nominal"
   ]
  },
  {
   "cell_type": "code",
   "execution_count": null,
   "id": "a8e78672",
   "metadata": {},
   "outputs": [],
   "source": [
    "cat_col = x_train.select_dtypes(include= \"O\").columns\n",
    "cat_col"
   ]
  },
  {
   "cell_type": "code",
   "execution_count": null,
   "id": "da08331e",
   "metadata": {},
   "outputs": [],
   "source": [
    "# check number of unique to explain which Encoder we use\n",
    "for col in cat_col:\n",
    "    print(col)\n",
    "    print(df[col].nunique())\n",
    "    print(\"-\" * 50)\n"
   ]
  },
  {
   "cell_type": "code",
   "execution_count": null,
   "id": "6153e4d5",
   "metadata": {},
   "outputs": [],
   "source": [
    "# using Binary Encoder \n",
    "from category_encoders import BinaryEncoder\n",
    "\n",
    "be = BinaryEncoder()\n",
    "\n",
    "be_df_train = be.fit_transform(x_train[cat_col])\n",
    "\n",
    "be_df_test = be.transform(x_test[cat_col])"
   ]
  },
  {
   "cell_type": "code",
   "execution_count": null,
   "id": "37aceec5",
   "metadata": {},
   "outputs": [],
   "source": [
    "x_train = pd.concat([x_train, be_df_train], axis= 1).drop(x_train[cat_col], axis= 1)\n",
    "x_test = pd.concat([x_test, be_df_test], axis= 1).drop(x_test[cat_col], axis= 1)\n"
   ]
  },
  {
   "cell_type": "code",
   "execution_count": null,
   "id": "145caf92",
   "metadata": {},
   "outputs": [],
   "source": [
    "x_train"
   ]
  },
  {
   "cell_type": "code",
   "execution_count": null,
   "id": "fd5ab738",
   "metadata": {},
   "outputs": [],
   "source": [
    "len(x_train)"
   ]
  },
  {
   "cell_type": "code",
   "execution_count": null,
   "id": "d6ccc3a5",
   "metadata": {},
   "outputs": [],
   "source": [
    "x_test"
   ]
  },
  {
   "cell_type": "code",
   "execution_count": null,
   "id": "aef1422f",
   "metadata": {},
   "outputs": [],
   "source": [
    "len(x_test)"
   ]
  },
  {
   "cell_type": "markdown",
   "id": "567c46cb",
   "metadata": {},
   "source": [
    "## Handle Imbalance"
   ]
  },
  {
   "cell_type": "code",
   "execution_count": null,
   "id": "8fc3caf6",
   "metadata": {},
   "outputs": [],
   "source": [
    "y_train.value_counts(normalize=True) *100\n"
   ]
  },
  {
   "cell_type": "code",
   "execution_count": null,
   "id": "b87eddaa",
   "metadata": {},
   "outputs": [],
   "source": [
    "# using smote \n",
    "from imblearn.over_sampling import SMOTE\n",
    "\n",
    "smote = SMOTE()\n",
    "\n",
    "x_train_smote, y_train_smote = smote.fit_resample(x_train, y_train)\n"
   ]
  },
  {
   "cell_type": "code",
   "execution_count": null,
   "id": "52417984",
   "metadata": {},
   "outputs": [],
   "source": [
    "y_train_smote.value_counts(normalize= True)"
   ]
  },
  {
   "cell_type": "code",
   "execution_count": null,
   "id": "07a74301",
   "metadata": {},
   "outputs": [],
   "source": []
  }
 ],
 "metadata": {
  "kernelspec": {
   "display_name": "machine_learning",
   "language": "python",
   "name": "python3"
  },
  "language_info": {
   "codemirror_mode": {
    "name": "ipython",
    "version": 3
   },
   "file_extension": ".py",
   "mimetype": "text/x-python",
   "name": "python",
   "nbconvert_exporter": "python",
   "pygments_lexer": "ipython3",
   "version": "3.9.20"
  }
 },
 "nbformat": 4,
 "nbformat_minor": 5
}
